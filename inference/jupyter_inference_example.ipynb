{
 "cells": [
  {
   "cell_type": "code",
   "execution_count": 1,
   "id": "b318c650-1c77-43fd-95e1-ce09f7104bf6",
   "metadata": {},
   "outputs": [],
   "source": [
    "import cv2\n",
    "import torch\n",
    "import numpy as np\n",
    "from diffusers import CogVideoXImageToVideoPipeline\n",
    "from diffusers.utils import export_to_video, load_image"
   ]
  },
  {
   "cell_type": "code",
   "execution_count": 2,
   "id": "8124656f-e12f-4fc5-a11a-73701bde972d",
   "metadata": {
    "scrolled": true
   },
   "outputs": [
    {
     "data": {
      "application/vnd.jupyter.widget-view+json": {
       "model_id": "fa1401aa8270435d9402428e94501e25",
       "version_major": 2,
       "version_minor": 0
      },
      "text/plain": [
       "Loading pipeline components...:   0%|          | 0/5 [00:00<?, ?it/s]"
      ]
     },
     "metadata": {},
     "output_type": "display_data"
    },
    {
     "data": {
      "application/vnd.jupyter.widget-view+json": {
       "model_id": "63074a96d76e4407acd5de59360b25e9",
       "version_major": 2,
       "version_minor": 0
      },
      "text/plain": [
       "Loading checkpoint shards:   0%|          | 0/4 [00:00<?, ?it/s]"
      ]
     },
     "metadata": {},
     "output_type": "display_data"
    }
   ],
   "source": [
    "pipe = CogVideoXImageToVideoPipeline.from_pretrained(\n",
    "    \"THUDM/CogVideoX1.5-5B-I2V\",\n",
    "    torch_dtype=torch.bfloat16\n",
    ")\n",
    "pipe.enable_sequential_cpu_offload()\n",
    "pipe.vae.enable_tiling()\n",
    "pipe.vae.enable_slicing()"
   ]
  },
  {
   "cell_type": "code",
   "execution_count": 3,
   "id": "d716e9ec-923a-4d7d-9d76-06b3a504a092",
   "metadata": {},
   "outputs": [],
   "source": [
    "pipe.load_lora_weights(\n",
    "    \"NimVideo/cogvideox1.5-5b-prompt-camera-motion\",\n",
    "    adapter_name=\"cogvideox-lora\"\n",
    ")\n",
    "pipe.set_adapters([\"cogvideox-lora\"], [1.0])"
   ]
  },
  {
   "cell_type": "code",
   "execution_count": 4,
   "id": "2d8cb6b2-c020-4765-ada9-d92c5dd7d417",
   "metadata": {},
   "outputs": [],
   "source": [
    "height = 768  # 480, 768, 720, 1360\n",
    "width = 1360\n",
    "validation_image = '../resources/car.jpg'\n",
    "\n",
    "image = load_image(validation_image).resize((width, height))\n",
    "prompt = \"Camera is moving to the left. A red sports car driving on a winding road.\""
   ]
  },
  {
   "cell_type": "code",
   "execution_count": 5,
   "id": "693a7c4a-0923-4740-b1e4-2e7f123a2479",
   "metadata": {
    "scrolled": true
   },
   "outputs": [
    {
     "data": {
      "application/vnd.jupyter.widget-view+json": {
       "model_id": "273c6d57e01b4ebf93ea80bc02156d98",
       "version_major": 2,
       "version_minor": 0
      },
      "text/plain": [
       "  0%|          | 0/50 [00:00<?, ?it/s]"
      ]
     },
     "metadata": {},
     "output_type": "display_data"
    },
    {
     "data": {
      "text/plain": [
       "'out.mp4'"
      ]
     },
     "execution_count": 5,
     "metadata": {},
     "output_type": "execute_result"
    }
   ],
   "source": [
    "video_generate = pipe(\n",
    "    image=image,\n",
    "    prompt=prompt,\n",
    "    height=height, \n",
    "    width=width, \n",
    "    num_frames=81,\n",
    "    guidance_scale=6,\n",
    "    num_inference_steps=50,\n",
    "    generator=torch.Generator(device=\"cuda\").manual_seed(42),\n",
    ").frames[0]\n",
    "\n",
    "export_to_video(video_generate, 'out.mp4', fps=8)"
   ]
  },
  {
   "cell_type": "code",
   "execution_count": null,
   "id": "817d3a13-7448-4797-a50f-d82393681463",
   "metadata": {},
   "outputs": [],
   "source": []
  }
 ],
 "metadata": {
  "kernelspec": {
   "display_name": "Python 3 (ipykernel)",
   "language": "python",
   "name": "python3"
  },
  "language_info": {
   "codemirror_mode": {
    "name": "ipython",
    "version": 3
   },
   "file_extension": ".py",
   "mimetype": "text/x-python",
   "name": "python",
   "nbconvert_exporter": "python",
   "pygments_lexer": "ipython3",
   "version": "3.10.12"
  }
 },
 "nbformat": 4,
 "nbformat_minor": 5
}
